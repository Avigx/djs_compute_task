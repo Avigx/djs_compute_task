{
  "nbformat": 4,
  "nbformat_minor": 0,
  "metadata": {
    "colab": {
      "provenance": [],
      "include_colab_link": true
    },
    "kernelspec": {
      "name": "python3",
      "display_name": "Python 3"
    },
    "language_info": {
      "name": "python"
    }
  },
  "cells": [
    {
      "cell_type": "markdown",
      "metadata": {
        "id": "view-in-github",
        "colab_type": "text"
      },
      "source": [
        "<a href=\"https://colab.research.google.com/github/Avigx/djs_compute_task/blob/main/Copy_of_DJS_Compute_DA_%26_ML_Task_1_2025_26.ipynb\" target=\"_parent\"><img src=\"https://colab.research.google.com/assets/colab-badge.svg\" alt=\"Open In Colab\"/></a>"
      ]
    },
    {
      "cell_type": "markdown",
      "source": [
        "**General Instructions:**\n",
        "\n",
        "*   Please make a copy of this colab notebook in your own drive and solve the questions in the copy. Do not edit the original file.\n",
        "\n",
        "*   All participants are encouraged to learn the basics of python including data types, operators, loops, conditional statements, handling user-defined input, strings, string methods, lists, list comprehension, sets, tuples, dictionaries and basic object-oriented programming concepts before coming to the interview.\n",
        "\n",
        "Beginners unfamiliar with Python are advised to watch the following tutorial before beginning Task 1.\n",
        "\n",
        "**Python Tutorial:** https://youtu.be/yVl_G-F7m8c?si=nEaJMo7Gqk-tQay1\n",
        "\n",
        "\n",
        "\n",
        "**Note:** The expected output is given in the cells below the question.\n"
      ],
      "metadata": {
        "id": "PiZZfxvj57LK"
      }
    },
    {
      "cell_type": "markdown",
      "source": [
        "# Task 1 - Basics of Python\n",
        "\n",
        "\n",
        "\n",
        "> It is the year 3032. After a year of brutal resistance, humanity has managed to slow down the alien invaders. However, the war is far from over. The aliens have begun using more sophisticated tactics, infiltrating human networks, and sabotaging supply lines. You have been recruited by the Resistance as their lead programmer, tasked with writing small but powerful scripts to help humanity survive.\n",
        "\n",
        "Your missions will range from secure communication, data cleansing, and resource tracking to infiltrator detection and digital security. Each problem you solve brings the Resistance one step closer to victory.\n",
        "\n",
        "\n",
        "\n",
        "\n"
      ],
      "metadata": {
        "id": "FgdtUgoiauGY"
      }
    },
    {
      "cell_type": "markdown",
      "source": [
        "**Question 1:**\n",
        "The alien invaders have begun intercepting resistance transmissions. To counter this, the rebels have adopted a simple text-based encryption method:\n",
        "\n",
        "Every alternate word in a sentence is reversed.\n",
        "\n",
        "The first word stays as it is, the second is reversed, the third stays as it is, the fourth is reversed, and so on.\n",
        "\n",
        "eg:\n",
        "Input: \"We strike at dawn tomorrow\"\n",
        "Output: \"We ekirts at nwad tomorrow\"\n",
        "\n",
        "Write a function encrypt_message(message) that takes in a sentence and returns the encrypted version."
      ],
      "metadata": {
        "id": "jk_UOVbvcfJb"
      }
    },
    {
      "cell_type": "code",
      "execution_count": 6,
      "metadata": {
        "id": "LmwLUF-kahv0"
      },
      "outputs": [],
      "source": [
        "message = \"The aliens will target the food stores first\""
      ]
    },
    {
      "cell_type": "markdown",
      "source": [],
      "metadata": {
        "id": "luoZThSV9RJu"
      }
    },
    {
      "cell_type": "code",
      "source": [
        "def encrypt_message(message: str) -> str:\n",
        "    words = message.split()\n",
        "    for i in range(len(words)):\n",
        "        if i % 2 == 1:\n",
        "            words[i] = words[i][::-1]\n",
        "    return \" \".join(words)\n",
        "\n",
        "print(encrypt_message(message))"
      ],
      "metadata": {
        "colab": {
          "base_uri": "https://localhost:8080/"
        },
        "id": "H3vbMHoYf5Q1",
        "outputId": "2bb33cdf-257d-489b-87dd-719752bb4bf2"
      },
      "execution_count": 7,
      "outputs": [
        {
          "output_type": "stream",
          "name": "stdout",
          "text": [
            "The sneila will tegrat the doof stores tsrif\n"
          ]
        }
      ]
    },
    {
      "cell_type": "markdown",
      "source": [
        "**Question 2:**\n",
        "The Resistance must prioritize rations for children and the elderly. Unfortunately, the refugee registration team is overwhelmed, and the age records are a mess — some are written as strings, some have accidental letters, and others are fine.\n",
        "\n",
        "Your job is to write a function clean_and_sort_ages(data) that:\n",
        "1. Removes invalid entries (anything that isn’t purely digits).\n",
        "\n",
        "2. Converts valid entries into integers.\n",
        "\n",
        "3. Returns a clean, sorted list of ages in ascending order."
      ],
      "metadata": {
        "id": "gezvSe3_hgoU"
      }
    },
    {
      "cell_type": "code",
      "source": [
        "data = [\"23\", \"17\", \"thirty\", \"45\", \"19a\", \"31\", \"20\", \"twenty_seven\", \"25c\"]"
      ],
      "metadata": {
        "id": "xqobzAhOunhf"
      },
      "execution_count": 8,
      "outputs": []
    },
    {
      "cell_type": "code",
      "source": [
        "# your code here\n",
        "def clean_and_sort_ages(data):\n",
        "    clean_ages = []\n",
        "    for entry in data:\n",
        "        if entry.isdigit():\n",
        "            clean_ages.append(entry)\n",
        "\n",
        "    return sorted(clean_ages)\n",
        "\n",
        "print(clean_and_sort_ages(data))"
      ],
      "metadata": {
        "colab": {
          "base_uri": "https://localhost:8080/"
        },
        "id": "ZHWkgegKvpgZ",
        "outputId": "f20b87bd-2821-4bb8-9bea-5ad142180652"
      },
      "execution_count": 9,
      "outputs": [
        {
          "output_type": "stream",
          "name": "stdout",
          "text": [
            "['17', '20', '23', '31', '45']\n"
          ]
        }
      ]
    },
    {
      "cell_type": "markdown",
      "source": [
        "**Question 3:** Supply crates are dropped at night by allied aircraft, but due to enemy fire, crates often scatter and the Resistance ends up with piles of mixed supplies. Each crate is labeled with a code:\n",
        "\n",
        " - \"MED-###\" for medical supplies\n",
        "\n",
        " - \"FOOD-###\" for food\n",
        "\n",
        " - \"WPN-###\" for weapons\n",
        "\n",
        "Write a function count_supplies(supplies) that counts how many of each type the rebels have."
      ],
      "metadata": {
        "id": "coC9Sbqd0bq0"
      }
    },
    {
      "cell_type": "code",
      "source": [
        "supplies = [\"MED-234\", \"FOOD-789\", \"WPN-101\", \"MED-456\", \"FOOD-321\"]"
      ],
      "metadata": {
        "id": "sj5NUmpdYPDF"
      },
      "execution_count": 10,
      "outputs": []
    },
    {
      "cell_type": "code",
      "source": [
        "\n",
        "# your code here\n",
        "def count_supplies(supplies):\n",
        "    count = {\"MED\":0,\"FOOD\":0,\"WPN\":0}\n",
        "    for crate in supplies:\n",
        "        if crate.startswith(\"MED\"):\n",
        "          count[\"MED\"]+=1\n",
        "        elif crate.startswith(\"FOOD\"):\n",
        "            count[\"FOOD\"] += 1\n",
        "        elif crate.startswith(\"WPN\"):\n",
        "            count[\"WPN\"] += 1\n",
        "\n",
        "    return count\n",
        "\n",
        "print(count_supplies(supplies))"
      ],
      "metadata": {
        "colab": {
          "base_uri": "https://localhost:8080/"
        },
        "id": "aPuIzBQv2sSS",
        "outputId": "57269a94-e62e-4d2c-f959-8a4014964366"
      },
      "execution_count": 11,
      "outputs": [
        {
          "output_type": "stream",
          "name": "stdout",
          "text": [
            "{'MED': 2, 'FOOD': 2, 'WPN': 1}\n"
          ]
        }
      ]
    },
    {
      "cell_type": "markdown",
      "source": [
        "The rebel scientists have been analyzing captured alien samples. They have discovered rules that can identify whether a DNA sequence is alien or human:\n",
        "\n",
        " - Alien DNA always ends with \"XZ\"\n",
        "\n",
        " - OR contains the substring \"QW\"\n",
        "\n",
        " - OR has a total length greater than 12 characters\n",
        "\n",
        "Write a function detect_aliens(dna_list) that separates sequences into two lists: Aliens and Humans."
      ],
      "metadata": {
        "id": "6z7Wr4BD8xSA"
      }
    },
    {
      "cell_type": "code",
      "source": [
        "dna_list = [\"ATCGXZ\", \"AATGQWGG\", \"TTAGCTA\", \"GATTACAGATTACA\", \"AXGTQWGGGXZ\", \"ATTGTCTA\"]"
      ],
      "metadata": {
        "id": "xUCGsUO9-use"
      },
      "execution_count": 12,
      "outputs": []
    },
    {
      "cell_type": "code",
      "source": [
        "# your code here\n",
        "def detect_aliens(dna_list):\n",
        "    aliens = []\n",
        "    humans = []\n",
        "\n",
        "    for dna in dna_list:\n",
        "        if dna.endswith(\"XZ\") or \"QW\" in dna or len(dna) > 12:\n",
        "            aliens.append(dna)\n",
        "        else:\n",
        "            humans.append(dna)\n",
        "\n",
        "    return aliens, humans\n",
        "aliens,humans = detect_aliens(dna_list)\n",
        "print(\"Aliens: \",aliens)\n",
        "print(\"Humans: \",humans)"
      ],
      "metadata": {
        "colab": {
          "base_uri": "https://localhost:8080/"
        },
        "id": "y7MSDDAL_ZhT",
        "outputId": "58ad7c61-0988-49a0-f155-533a9f8b45b6"
      },
      "execution_count": 14,
      "outputs": [
        {
          "output_type": "stream",
          "name": "stdout",
          "text": [
            "Aliens:  ['ATCGXZ', 'AATGQWGG', 'GATTACAGATTACA', 'AXGTQWGGGXZ']\n",
            "Humans:  ['TTAGCTA', 'ATTGTCTA']\n"
          ]
        }
      ]
    },
    {
      "cell_type": "markdown",
      "source": [
        "**Question 5:** The Resistance intercepted classified intelligence files about alien commanders. Each commander is represented as a dictionary:\n",
        "\n",
        "{\"name\": \"Xeron\", \"rank\": 4, \"missions\": 20}\n",
        "\n",
        "Your task is to help the rebel analysts make sense of the data:\n",
        "\n",
        "1. Write a function sort_by_missions(commanders) → sorts the list by missions in descending order.\n",
        "\n",
        "2. Write a function sort_by_rank(commanders) → sorts the list by rank in ascending order."
      ],
      "metadata": {
        "id": "hryYd_ubD2U8"
      }
    },
    {
      "cell_type": "code",
      "source": [
        "commanders = [\n",
        "    {\"name\": \"Xeron\", \"rank\": 4, \"missions\": 20},\n",
        "    {\"name\": \"Mira\", \"rank\": 2, \"missions\": 50},\n",
        "    {\"name\": \"Zara\", \"rank\": 4, \"missions\": 21},\n",
        "    {\"name\": \"Rumi\", \"rank\": 1, \"missions\": 75},\n",
        "    {\"name\": \"Larzon\", \"rank\": 5, \"missions\": 35}\n",
        "]"
      ],
      "metadata": {
        "id": "XniLIPBoGrl9"
      },
      "execution_count": 17,
      "outputs": []
    },
    {
      "cell_type": "code",
      "source": [
        "# your code here\n",
        "def sort_by_missions(commanders):\n",
        "    return sorted(commanders, key=lambda c: c[\"missions\"], reverse=True)\n",
        "\n",
        "def sort_by_rank(commanders):\n",
        "    return sorted(commanders, key=lambda c: c[\"rank\"])\n",
        "\n",
        "print(\"By missions: \",sort_by_missions(commanders))\n",
        "print(\"By rank: \",sort_by_rank(commanders))\n"
      ],
      "metadata": {
        "colab": {
          "base_uri": "https://localhost:8080/"
        },
        "id": "bjq8PTTOHh56",
        "outputId": "e8757822-fe73-483c-975e-1bfcb2e30a1e"
      },
      "execution_count": 19,
      "outputs": [
        {
          "output_type": "stream",
          "name": "stdout",
          "text": [
            "By missions:  [{'name': 'Rumi', 'rank': 1, 'missions': 75}, {'name': 'Mira', 'rank': 2, 'missions': 50}, {'name': 'Larzon', 'rank': 5, 'missions': 35}, {'name': 'Zara', 'rank': 4, 'missions': 21}, {'name': 'Xeron', 'rank': 4, 'missions': 20}]\n",
            "By rank:  [{'name': 'Rumi', 'rank': 1, 'missions': 75}, {'name': 'Mira', 'rank': 2, 'missions': 50}, {'name': 'Xeron', 'rank': 4, 'missions': 20}, {'name': 'Zara', 'rank': 4, 'missions': 21}, {'name': 'Larzon', 'rank': 5, 'missions': 35}]\n"
          ]
        }
      ]
    },
    {
      "cell_type": "markdown",
      "source": [
        "**Question 6:** The Resistance maintains hidden bases across the city. Each base is marked on a map by its (x, y) coordinates. Headquarters is located at (0, 0). In case of emergencies, bases closest to HQ will receive evacuation priority.\n",
        "\n",
        "Write a function calculate_distances(coords) that:\n",
        "\n",
        " - Calculates the Euclidean distance of each base from HQ.\n",
        "\n",
        " - Returns a dictionary mapping each coordinate to its distance, rounded to 2 decimals."
      ],
      "metadata": {
        "id": "90Nijs1KIZZ0"
      }
    },
    {
      "cell_type": "code",
      "source": [
        "coords = [(3, 4), (1, 1), (0, 5), (2, -2), (5, 7)]"
      ],
      "metadata": {
        "id": "qfOljsoEZ_BF"
      },
      "execution_count": 20,
      "outputs": []
    },
    {
      "cell_type": "code",
      "source": [
        "# your code here\n",
        "import math\n",
        "\n",
        "def calculate_distances(coords):\n",
        "    distances = {}\n",
        "    for (x, y) in coords:\n",
        "        dist = math.sqrt(x**2 + y**2)\n",
        "        distances[(x, y)] = round(dist, 2)\n",
        "    return distances\n",
        "print(calculate_distances(coords))"
      ],
      "metadata": {
        "colab": {
          "base_uri": "https://localhost:8080/"
        },
        "id": "gnI1a0TFLoqh",
        "outputId": "502e7411-6a60-4ebd-f9f0-18f2033920be"
      },
      "execution_count": 21,
      "outputs": [
        {
          "output_type": "stream",
          "name": "stdout",
          "text": [
            "{(3, 4): 5.0, (1, 1): 1.41, (0, 5): 5.0, (2, -2): 2.83, (5, 7): 8.6}\n"
          ]
        }
      ]
    },
    {
      "cell_type": "markdown",
      "source": [
        "**Question 7:** The Resistance has secured safehouses with digital locks. To prevent alien infiltration, access codes must follow strict rules:\n",
        "\n",
        " - Must be exactly 8 characters long\n",
        "\n",
        " - The first 2 characters must be uppercase letters\n",
        "\n",
        " - The next 2 characters must be lowercase letters\n",
        "\n",
        " - The last 4 characters must be digits\n",
        "\n",
        "Write a regex that validates a list of access codes.\n",
        "\n",
        "\n",
        "P.S. Don't forget to import the re module"
      ],
      "metadata": {
        "id": "74iydRkwULOi"
      }
    },
    {
      "cell_type": "code",
      "source": [
        "codes = [\"ABcd1234\", \"ZZzz9999\", \"aaBB1234\", \"XYab5678\", \"QWoh9624\", \"koWT2613\"]"
      ],
      "metadata": {
        "id": "WcroHcC4VUaY"
      },
      "execution_count": 24,
      "outputs": []
    },
    {
      "cell_type": "code",
      "source": [
        "# your code here\n",
        "import re\n",
        "\n",
        "def validate_codes(codes):\n",
        "    pattern = r'^[A-Z]{2}[a-z]{2}\\d{4}$'\n",
        "    valid = []\n",
        "\n",
        "    for code in codes:\n",
        "        if re.match(pattern, code):\n",
        "            valid.append(code)\n",
        "\n",
        "    return valid\n",
        "\n",
        "print(validate_codes(codes))"
      ],
      "metadata": {
        "colab": {
          "base_uri": "https://localhost:8080/"
        },
        "id": "_Gj97hjmVpGG",
        "outputId": "ac1ba890-0108-4628-d960-cdc5765b3fe9"
      },
      "execution_count": 26,
      "outputs": [
        {
          "output_type": "stream",
          "name": "stdout",
          "text": [
            "['ABcd1234', 'ZZzz9999', 'XYab5678', 'QWoh9624']\n"
          ]
        }
      ]
    },
    {
      "cell_type": "markdown",
      "source": [
        "For a better understanding of Regular Expressions: https://realpython.com/regex-python/"
      ],
      "metadata": {
        "id": "ZlnxyGHm7z0J"
      }
    }
  ]
}